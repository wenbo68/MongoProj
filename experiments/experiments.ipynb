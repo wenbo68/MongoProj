{
 "cells": [
  {
   "cell_type": "code",
   "execution_count": 2,
   "metadata": {},
   "outputs": [
    {
     "name": "stdout",
     "output_type": "stream",
     "text": [
      "Collecting pymysql\n",
      "  Downloading PyMySQL-1.1.1-py3-none-any.whl.metadata (4.4 kB)\n",
      "Downloading PyMySQL-1.1.1-py3-none-any.whl (44 kB)\n",
      "Installing collected packages: pymysql\n",
      "Successfully installed pymysql-1.1.1\n"
     ]
    },
    {
     "name": "stderr",
     "output_type": "stream",
     "text": [
      "WARNING: Ignoring invalid distribution ~atplotlib (c:\\Users\\wenbo\\apps\\python\\Lib\\site-packages)\n",
      "WARNING: Ignoring invalid distribution ~atplotlib (c:\\Users\\wenbo\\apps\\python\\Lib\\site-packages)\n",
      "WARNING: Ignoring invalid distribution ~atplotlib (c:\\Users\\wenbo\\apps\\python\\Lib\\site-packages)\n"
     ]
    }
   ],
   "source": [
    "!pip install pymysql\n"
   ]
  },
  {
   "cell_type": "code",
   "execution_count": 17,
   "metadata": {},
   "outputs": [],
   "source": [
    "import pymysql\n",
    "class mysql_crud:\n",
    "    def __init__(self, uri: str, port:int, user:str, password:str, database:str):\n",
    "        self.db = self.create_database(uri,port,user,password)\n",
    "        self.cursor = self.create_cursor(self.db)\n",
    "        # Create the database (if it doesn't exist)\n",
    "        sql = f\"CREATE DATABASE IF NOT EXISTS {database}\"\n",
    "        self.cursor.execute(sql)\n",
    "        self.cursor.close()\n",
    "        self.db.close()\n",
    "        self.db = self.create_database1(uri,port,user,password,database)\n",
    "        self.cursor = self.db.cursor()\n",
    "\n",
    "    def create_database(self,uri,port,user,password):\n",
    "        return pymysql.connect(\n",
    "            host=uri,\n",
    "            port=port,\n",
    "            user=user,\n",
    "            password=password\n",
    "        )\n",
    "    \n",
    "    def create_database1(self,uri,port,user,password,database):\n",
    "        return pymysql.connect(\n",
    "            host=uri,\n",
    "            port=port,\n",
    "            user=user,\n",
    "            password=password,\n",
    "            database=database\n",
    "        )\n",
    "    \n",
    "    def create_cursor(self,db):\n",
    "        return db.cursor()\n",
    "    \n",
    "    def create_table(self, table_name, columns):\n",
    "        column_definitions = []\n",
    "        for column in columns:\n",
    "            column_definition = f\"{column['name']} {column['data_type']}\"\n",
    "            if 'constraints' in column:\n",
    "                for constraint, value in column['constraints'].items():\n",
    "                    column_definition += f\" {constraint} {value}\"\n",
    "            column_definitions.append(column_definition)\n",
    "\n",
    "        sql = f\"CREATE TABLE {table_name} ({', '.join(column_definitions)})\"\n",
    "\n",
    "        try:\n",
    "            self.cursor.execute(sql)\n",
    "            print(f\"Table '{table_name}' created successfully.\")\n",
    "        except pymysql.Error as e:\n",
    "            print(f\"Error creating table: {e}\")\n",
    "\n",
    "    def create_record(self, table_name, data):\n",
    "        \"\"\"Creates a new record in the specified table.\"\"\"\n",
    "        columns = ', '.join(data.keys())\n",
    "        values = ', '.join(['%s' for _ in data.values()])\n",
    "        sql = f\"INSERT INTO {table_name} ({columns}) VALUES ({values})\"\n",
    "        try:\n",
    "            self.cursor.execute(sql, tuple(data.values()))\n",
    "            self.db.commit()\n",
    "            print(\"Record created successfully.\")\n",
    "        except pymysql.Error as e:\n",
    "            print(f\"Error creating record: {e}\")\n",
    "\n",
    "    def read_records(self, table_name):\n",
    "        \"\"\"Retrieves all records from the specified table.\"\"\"\n",
    "        sql = f\"SELECT * FROM {table_name}\"\n",
    "        try:\n",
    "            self.cursor.execute(sql)\n",
    "            results = self.cursor.fetchall()\n",
    "            for row in results:\n",
    "                print(row)\n",
    "            return results\n",
    "        except pymysql.Error as e:\n",
    "            print(f\"Error reading records: {e}\")\n",
    "            return None\n",
    "\n",
    "    def update_record(self, table_name, condition, data):\n",
    "        \"\"\"Updates a record in the specified table based on the given condition.\"\"\"\n",
    "        set_clause = ', '.join([f\"{key} = %s\" for key in data.keys()])\n",
    "        sql = f\"UPDATE {table_name} SET {set_clause} WHERE {condition}\"\n",
    "        try:\n",
    "            self.cursor.execute(sql, tuple(data.values()))\n",
    "            self.db.commit()\n",
    "            print(\"Record updated successfully.\")\n",
    "        except pymysql.Error as e:\n",
    "            print(f\"Error updating record: {e}\")\n",
    "\n",
    "    def delete_record(self, table_name, condition):\n",
    "        \"\"\"Deletes a record from the specified table based on the given condition.\"\"\"\n",
    "        sql = f\"DELETE FROM {table_name} WHERE {condition}\"\n",
    "        try:\n",
    "            self.cursor.execute(sql)\n",
    "            self.db.commit()\n",
    "            print(\"Record deleted successfully.\")\n",
    "        except pymysql.Error as e:\n",
    "            print(f\"Error deleting record: {e}\")"
   ]
  },
  {
   "cell_type": "code",
   "execution_count": 18,
   "metadata": {},
   "outputs": [],
   "source": [
    "test_crud = mysql_crud(uri='testdb1.cxroeg3bkcm9.us-east-2.rds.amazonaws.com',port=3306,user='wenboliu68',password='Bang0526',database='testdb2')"
   ]
  },
  {
   "cell_type": "code",
   "execution_count": 20,
   "metadata": {},
   "outputs": [
    {
     "name": "stdout",
     "output_type": "stream",
     "text": [
      "Error creating table: (1050, \"Table 'user' already exists\")\n"
     ]
    }
   ],
   "source": [
    "columns = [\n",
    "    {\"name\": \"id\", \"data_type\": \"INT\", \"constraints\": {\"PRIMARY KEY\": \"AUTO_INCREMENT\"}},\n",
    "    {\"name\": \"name\", \"data_type\": \"VARCHAR(50)\"},\n",
    "    {\"name\": \"age\", \"data_type\": \"INT\"}\n",
    "]\n",
    "\n",
    "test_crud.create_table('user',columns)"
   ]
  },
  {
   "cell_type": "code",
   "execution_count": 23,
   "metadata": {},
   "outputs": [
    {
     "name": "stdout",
     "output_type": "stream",
     "text": [
      "Record created successfully.\n"
     ]
    }
   ],
   "source": [
    "test_crud.create_record('user',{'name':'annie','age':15})"
   ]
  },
  {
   "cell_type": "code",
   "execution_count": 28,
   "metadata": {},
   "outputs": [
    {
     "name": "stdout",
     "output_type": "stream",
     "text": [
      "(3, 'annie', 15)\n"
     ]
    },
    {
     "data": {
      "text/plain": [
       "((3, 'annie', 15),)"
      ]
     },
     "execution_count": 28,
     "metadata": {},
     "output_type": "execute_result"
    }
   ],
   "source": [
    "test_crud.read_records('user')"
   ]
  },
  {
   "cell_type": "code",
   "execution_count": 25,
   "metadata": {},
   "outputs": [
    {
     "name": "stdout",
     "output_type": "stream",
     "text": [
      "Record updated successfully.\n"
     ]
    }
   ],
   "source": [
    "test_crud.update_record('user',\"name='jack'\",{'age':20})"
   ]
  },
  {
   "cell_type": "code",
   "execution_count": 27,
   "metadata": {},
   "outputs": [
    {
     "name": "stdout",
     "output_type": "stream",
     "text": [
      "Record deleted successfully.\n"
     ]
    }
   ],
   "source": [
    "test_crud.delete_record('user',\"name='jack'\")"
   ]
  }
 ],
 "metadata": {
  "kernelspec": {
   "display_name": "Python 3",
   "language": "python",
   "name": "python3"
  },
  "language_info": {
   "codemirror_mode": {
    "name": "ipython",
    "version": 3
   },
   "file_extension": ".py",
   "mimetype": "text/x-python",
   "name": "python",
   "nbconvert_exporter": "python",
   "pygments_lexer": "ipython3",
   "version": "3.12.3"
  }
 },
 "nbformat": 4,
 "nbformat_minor": 2
}
